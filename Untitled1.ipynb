{
 "cells": [
  {
   "cell_type": "markdown",
   "id": "d12f4e0c-45de-43f1-a2d6-2ab63fd9a3c4",
   "metadata": {},
   "source": [
    "<h1>데이터 준비</h1>"
   ]
  },
  {
   "cell_type": "code",
   "execution_count": 1,
   "id": "9c46bfef-4e57-4288-a32f-3cebd78977ab",
   "metadata": {},
   "outputs": [],
   "source": [
    "import cv2"
   ]
  },
  {
   "cell_type": "code",
   "execution_count": 3,
   "id": "2a8a6345-0c31-495c-818f-61e0f80ed57b",
   "metadata": {},
   "outputs": [
    {
     "name": "stderr",
     "output_type": "stream",
     "text": [
      "  % Total    % Received % Xferd  Average Speed   Time    Time     Time  Current\n",
      "                                 Dload  Upload   Total   Spent    Left  Speed\n",
      "\n",
      "  0     0    0     0    0     0      0      0 --:--:-- --:--:-- --:--:--     0\n",
      "  0     0    0     0    0     0      0      0 --:--:-- --:--:-- --:--:--     0\n",
      "  0     0    0     0    0     0      0      0 --:--:--  0:00:01 --:--:--     0\n",
      "  0     0    0     0    0     0      0      0 --:--:--  0:00:02 --:--:--     0\n",
      "  0     0    0     0    0     0      0      0 --:--:--  0:00:03 --:--:--     0\n",
      "  0     0    0     0    0     0      0      0 --:--:--  0:00:04 --:--:--     0\n",
      "  0     0    0     0    0     0      0      0 --:--:--  0:00:08 --:--:--     0\n",
      "  0  908k    0     0    0     0      0      0 --:--:--  0:00:09 --:--:--     0\n",
      " 42  908k   42  384k    0     0  38580      0  0:00:24  0:00:10  0:00:14 49755\n",
      " 98  908k   98  891k    0     0  82078      0  0:00:11  0:00:11 --:--:--  114k\n",
      "100  908k  100  908k    0     0  82355      0  0:00:11  0:00:11 --:--:--  128k\n"
     ]
    }
   ],
   "source": [
    "!curl -L -o ./haarcascade_frontalface_default.xml https://raw.githubusercontent.com/opencv/opencv/master/data/haarcascades/haarcascade_frontalface_default.xml"
   ]
  },
  {
   "cell_type": "code",
   "execution_count": 5,
   "id": "40d71353-700b-4702-a907-9dc9f5a06113",
   "metadata": {},
   "outputs": [],
   "source": [
    "img_source = \"hzzang.jpg\"\n",
    "\n",
    "img = cv2.imread(img_source)"
   ]
  },
  {
   "cell_type": "markdown",
   "id": "b3e789b9-b471-42c0-914d-0a7618644cf0",
   "metadata": {},
   "source": [
    "<h1>얼굴 인식하기</h1>"
   ]
  },
  {
   "cell_type": "code",
   "execution_count": 6,
   "id": "1e43073a-f9d7-4261-a829-226d71fe0882",
   "metadata": {},
   "outputs": [],
   "source": [
    "faceCascade = cv2.CascadeClassifier(\"haarcascade_frontalface_default.xml\")\n",
    "\n",
    "gray = cv2.cvtColor(img, cv2.COLOR_BGR2GRAY)\n",
    "\n",
    "faces = faceCascade.detectMultiScale(gray, scaleFactor = 1.1, minNeighbors = 5, minSize = (30, 30))\n",
    "\n",
    "for(x, y, w, h) in faces :\n",
    "    cv2.rectangle(img, (x, y), (x + w, y + h), (0, 255, 0), 2)\n",
    "    \n",
    "cv2.imshow('호짱', img)\n",
    "cv2.waitKey()\n",
    "cv2.destroyAllWindows()"
   ]
  },
  {
   "cell_type": "markdown",
   "id": "e91486ab-1736-4210-ad8c-7e2e34950ff4",
   "metadata": {},
   "source": [
    "<h1>웹캠으로 얼굴 인식하기</h1>"
   ]
  },
  {
   "cell_type": "code",
   "execution_count": 9,
   "id": "b1901616-58d3-444b-bf2b-3a062e9a922f",
   "metadata": {},
   "outputs": [],
   "source": [
    "video_capture = cv2.VideoCapture(0)\n",
    "\n",
    "while True:\n",
    "    ret, frame = video_capture.read()\n",
    "    gray = cv2.cvtColor(frame, cv2.COLOR_BGR2GRAY)\n",
    "    \n",
    "    faces = faceCascade.detectMultiScale(gray, scaleFactor = 1.1, minNeighbors = 5, minSize = (30, 30))\n",
    "    \n",
    "    for(x, y, w, h) in faces:\n",
    "        cv2.rectangle(frame, (x, y), (x + w, y + h), (0, 255, 0), 2)\n",
    "        \n",
    "    cv2.imshow('얼굴', frame)\n",
    "    \n",
    "    if(cv2.waitKey(1) & 0xFF == ord('q')):\n",
    "        break\n",
    "        \n",
    "video_capture.release()\n",
    "cv2.destroyAllWindows()"
   ]
  },
  {
   "cell_type": "markdown",
   "id": "16d9b5c7-2ccc-4cde-9ce1-3a6eee18533c",
   "metadata": {},
   "source": [
    "<h1>표정 인식 준비</h1>"
   ]
  },
  {
   "cell_type": "code",
   "execution_count": 18,
   "id": "87e70d2a-2488-46e8-abb0-919b00024de2",
   "metadata": {},
   "outputs": [
    {
     "name": "stderr",
     "output_type": "stream",
     "text": [
      "  % Total    % Received % Xferd  Average Speed   Time    Time     Time  Current\n",
      "                                 Dload  Upload   Total   Spent    Left  Speed\n",
      "\n",
      "  0     0    0     0    0     0      0      0 --:--:-- --:--:-- --:--:--     0\n",
      "  0     0    0     0    0     0      0      0 --:--:-- --:--:-- --:--:--     0\n",
      "  0     0    0     0    0     0      0      0 --:--:--  0:00:01 --:--:--     0\n",
      "  0     0    0     0    0     0      0      0 --:--:--  0:00:02 --:--:--     0\n",
      "\n",
      "100  2734    0  2734    0     0   1017      0 --:--:--  0:00:02 --:--:--  1017\n",
      "100  137k    0  137k    0     0  47332      0 --:--:--  0:00:02 --:--:--  480k\n"
     ]
    }
   ],
   "source": [
    "!curl -L -o ./emotion_model.hdf5 https://github.com/omar178/Emotion-recognition/tree/master/models/_mini_XCEPTION.102-0.66.hdf5"
   ]
  },
  {
   "cell_type": "code",
   "execution_count": 12,
   "id": "2a94dec2-a919-4947-8006-062da2344e94",
   "metadata": {},
   "outputs": [],
   "source": [
    "import numpy as np\n",
    "from tensorflow.keras.utils import img_to_array\n",
    "from keras.models import load_model"
   ]
  },
  {
   "cell_type": "code",
   "execution_count": 19,
   "id": "a903804d-012b-4d75-b35e-f973c65eb828",
   "metadata": {},
   "outputs": [
    {
     "ename": "OSError",
     "evalue": "No file or directory found at _mini_XCEPTION.102-0.66.hdf5",
     "output_type": "error",
     "traceback": [
      "\u001b[1;31m---------------------------------------------------------------------------\u001b[0m",
      "\u001b[1;31mOSError\u001b[0m                                   Traceback (most recent call last)",
      "\u001b[1;32m<ipython-input-19-d6a4f92ae772>\u001b[0m in \u001b[0;36m<module>\u001b[1;34m\u001b[0m\n\u001b[0;32m      1\u001b[0m \u001b[0mface_detection\u001b[0m \u001b[1;33m=\u001b[0m \u001b[0mcv2\u001b[0m\u001b[1;33m.\u001b[0m\u001b[0mCascadeClassifier\u001b[0m\u001b[1;33m(\u001b[0m\u001b[1;34m'haarcascade_frontalface_default.xml'\u001b[0m\u001b[1;33m)\u001b[0m\u001b[1;33m\u001b[0m\u001b[1;33m\u001b[0m\u001b[0m\n\u001b[1;32m----> 2\u001b[1;33m \u001b[0memotion_classifier\u001b[0m \u001b[1;33m=\u001b[0m \u001b[0mload_model\u001b[0m\u001b[1;33m(\u001b[0m\u001b[1;34m'_mini_XCEPTION.102-0.66.hdf5'\u001b[0m\u001b[1;33m,\u001b[0m \u001b[0mcompile\u001b[0m\u001b[1;33m=\u001b[0m\u001b[1;32mFalse\u001b[0m\u001b[1;33m)\u001b[0m\u001b[1;33m\u001b[0m\u001b[1;33m\u001b[0m\u001b[0m\n\u001b[0m\u001b[0;32m      3\u001b[0m \u001b[0mEMOTIONS\u001b[0m \u001b[1;33m=\u001b[0m \u001b[1;33m[\u001b[0m\u001b[1;34m'angry'\u001b[0m\u001b[1;33m,\u001b[0m \u001b[1;34m'disgusting'\u001b[0m\u001b[1;33m,\u001b[0m \u001b[1;34m'fearful'\u001b[0m\u001b[1;33m,\u001b[0m \u001b[1;34m'happy'\u001b[0m\u001b[1;33m,\u001b[0m \u001b[1;34m'sad'\u001b[0m\u001b[1;33m,\u001b[0m \u001b[1;34m'surpring'\u001b[0m\u001b[1;33m,\u001b[0m \u001b[1;34m'neutral'\u001b[0m\u001b[1;33m]\u001b[0m\u001b[1;33m\u001b[0m\u001b[1;33m\u001b[0m\u001b[0m\n",
      "\u001b[1;32m~\\anaconda3\\lib\\site-packages\\keras\\utils\\traceback_utils.py\u001b[0m in \u001b[0;36merror_handler\u001b[1;34m(*args, **kwargs)\u001b[0m\n\u001b[0;32m     68\u001b[0m             \u001b[1;31m# To get the full stack trace, call:\u001b[0m\u001b[1;33m\u001b[0m\u001b[1;33m\u001b[0m\u001b[1;33m\u001b[0m\u001b[0m\n\u001b[0;32m     69\u001b[0m             \u001b[1;31m# `tf.debugging.disable_traceback_filtering()`\u001b[0m\u001b[1;33m\u001b[0m\u001b[1;33m\u001b[0m\u001b[1;33m\u001b[0m\u001b[0m\n\u001b[1;32m---> 70\u001b[1;33m             \u001b[1;32mraise\u001b[0m \u001b[0me\u001b[0m\u001b[1;33m.\u001b[0m\u001b[0mwith_traceback\u001b[0m\u001b[1;33m(\u001b[0m\u001b[0mfiltered_tb\u001b[0m\u001b[1;33m)\u001b[0m \u001b[1;32mfrom\u001b[0m \u001b[1;32mNone\u001b[0m\u001b[1;33m\u001b[0m\u001b[1;33m\u001b[0m\u001b[0m\n\u001b[0m\u001b[0;32m     71\u001b[0m         \u001b[1;32mfinally\u001b[0m\u001b[1;33m:\u001b[0m\u001b[1;33m\u001b[0m\u001b[1;33m\u001b[0m\u001b[0m\n\u001b[0;32m     72\u001b[0m             \u001b[1;32mdel\u001b[0m \u001b[0mfiltered_tb\u001b[0m\u001b[1;33m\u001b[0m\u001b[1;33m\u001b[0m\u001b[0m\n",
      "\u001b[1;32m~\\anaconda3\\lib\\site-packages\\keras\\saving\\legacy\\save.py\u001b[0m in \u001b[0;36mload_model\u001b[1;34m(filepath, custom_objects, compile, options)\u001b[0m\n\u001b[0;32m    225\u001b[0m                 \u001b[1;32mif\u001b[0m \u001b[0misinstance\u001b[0m\u001b[1;33m(\u001b[0m\u001b[0mfilepath_str\u001b[0m\u001b[1;33m,\u001b[0m \u001b[0mstr\u001b[0m\u001b[1;33m)\u001b[0m\u001b[1;33m:\u001b[0m\u001b[1;33m\u001b[0m\u001b[1;33m\u001b[0m\u001b[0m\n\u001b[0;32m    226\u001b[0m                     \u001b[1;32mif\u001b[0m \u001b[1;32mnot\u001b[0m \u001b[0mtf\u001b[0m\u001b[1;33m.\u001b[0m\u001b[0mio\u001b[0m\u001b[1;33m.\u001b[0m\u001b[0mgfile\u001b[0m\u001b[1;33m.\u001b[0m\u001b[0mexists\u001b[0m\u001b[1;33m(\u001b[0m\u001b[0mfilepath_str\u001b[0m\u001b[1;33m)\u001b[0m\u001b[1;33m:\u001b[0m\u001b[1;33m\u001b[0m\u001b[1;33m\u001b[0m\u001b[0m\n\u001b[1;32m--> 227\u001b[1;33m                         raise IOError(\n\u001b[0m\u001b[0;32m    228\u001b[0m                             \u001b[1;34mf\"No file or directory found at {filepath_str}\"\u001b[0m\u001b[1;33m\u001b[0m\u001b[1;33m\u001b[0m\u001b[0m\n\u001b[0;32m    229\u001b[0m                         )\n",
      "\u001b[1;31mOSError\u001b[0m: No file or directory found at _mini_XCEPTION.102-0.66.hdf5"
     ]
    }
   ],
   "source": [
    "face_detection = cv2.CascadeClassifier('haarcascade_frontalface_default.xml')\n",
    "emotion_classifier = load_model('_mini_XCEPTION.102-0.66.hdf5', compile=False)\n",
    "EMOTIONS = ['angry', 'disgusting', 'fearful', 'happy', 'sad', 'surpring', 'neutral']"
   ]
  },
  {
   "cell_type": "code",
   "execution_count": null,
   "id": "8bf76e13-b500-4401-b7e0-fe22db365849",
   "metadata": {},
   "outputs": [],
   "source": []
  }
 ],
 "metadata": {
  "kernelspec": {
   "display_name": "Python 3",
   "language": "python",
   "name": "python3"
  },
  "language_info": {
   "codemirror_mode": {
    "name": "ipython",
    "version": 3
   },
   "file_extension": ".py",
   "mimetype": "text/x-python",
   "name": "python",
   "nbconvert_exporter": "python",
   "pygments_lexer": "ipython3",
   "version": "3.8.8"
  }
 },
 "nbformat": 4,
 "nbformat_minor": 5
}
